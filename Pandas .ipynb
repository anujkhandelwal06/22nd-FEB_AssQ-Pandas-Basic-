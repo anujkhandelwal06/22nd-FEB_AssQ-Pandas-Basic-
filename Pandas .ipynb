{
 "cells": [
  {
   "cell_type": "code",
   "execution_count": 2,
   "id": "bf6ccf1a-4145-47cd-9075-d9ee2dc5da0f",
   "metadata": {},
   "outputs": [],
   "source": [
    "import pandas as pd\n"
   ]
  },
  {
   "cell_type": "code",
   "execution_count": 3,
   "id": "57914b2a-e66e-4fca-a3ee-e40b4167586a",
   "metadata": {},
   "outputs": [
    {
     "name": "stdout",
     "output_type": "stream",
     "text": [
      "Requirement already satisfied: pandas in /opt/conda/lib/python3.10/site-packages (1.5.2)\n",
      "Requirement already satisfied: python-dateutil>=2.8.1 in /opt/conda/lib/python3.10/site-packages (from pandas) (2.8.2)\n",
      "Requirement already satisfied: pytz>=2020.1 in /opt/conda/lib/python3.10/site-packages (from pandas) (2022.6)\n",
      "Requirement already satisfied: numpy>=1.21.0 in /opt/conda/lib/python3.10/site-packages (from pandas) (1.23.5)\n",
      "Requirement already satisfied: six>=1.5 in /opt/conda/lib/python3.10/site-packages (from python-dateutil>=2.8.1->pandas) (1.16.0)\n"
     ]
    }
   ],
   "source": [
    "! pip install pandas"
   ]
  },
  {
   "cell_type": "markdown",
   "id": "f227725c-6741-4350-82ae-6425361b45b5",
   "metadata": {},
   "source": [
    "Q1. Create a Pandas Series that contains the following data: 4, 8, 15, 16, 23, and 42. Then, print the series."
   ]
  },
  {
   "cell_type": "code",
   "execution_count": 4,
   "id": "aecdabe6-c3a6-4dd8-a407-54c156b7dc9f",
   "metadata": {},
   "outputs": [
    {
     "name": "stdout",
     "output_type": "stream",
     "text": [
      "0     4\n",
      "1     8\n",
      "2    15\n",
      "3    16\n",
      "4    23\n",
      "5    42\n",
      "dtype: int64\n"
     ]
    }
   ],
   "source": [
    "data=[4,8,15,16,23,42]\n",
    "my_series = pd.Series(data)\n",
    "print(my_series)"
   ]
  },
  {
   "cell_type": "markdown",
   "id": "b7503e2d-ce96-4db5-b57a-e803c83eb505",
   "metadata": {},
   "source": [
    "Q2. Create a variable of list type containing 10 elements in it, and apply pandas.Series function on the\n",
    "variable print it."
   ]
  },
  {
   "cell_type": "code",
   "execution_count": 5,
   "id": "31846a36-2bfa-4058-ba1b-51449eea9386",
   "metadata": {},
   "outputs": [
    {
     "name": "stdout",
     "output_type": "stream",
     "text": [
      "0     1\n",
      "1     2\n",
      "2     3\n",
      "3     4\n",
      "4     5\n",
      "5     6\n",
      "6     7\n",
      "7     8\n",
      "8     9\n",
      "9    10\n",
      "dtype: int64\n"
     ]
    }
   ],
   "source": [
    "\n",
    "my_list = [1, 2, 3, 4, 5, 6, 7, 8, 9, 10]\n",
    "my_series = pd.Series(my_list)\n",
    "\n",
    "print(my_series)"
   ]
  },
  {
   "cell_type": "raw",
   "id": "d2fed9f2-67c5-489f-a48e-430e0b297596",
   "metadata": {},
   "source": [
    "Q3. What is ‘DataFrame’ in pandas and how is it different from pandas.series? Explain with an example\n",
    "\n",
    "In pandas, DataFrame is a 2d,size-mutable,potentially heterogenous tabular data structure with labeled rows & columns.Most used data structure in pandas and can be thought of as a spreadsheet or a SQL table.\n",
    "\n",
    "Data frames are used to store and manipulate data in a structured way, making it easy to perform data analysis and operations on datasets.\n",
    "\n",
    "1. Series :\n",
    "(A)A Series is a one-dimensional array-like data structure in Pandas.\n",
    "(B)It can store a single column or one-dimensional array of data.\n",
    "(C)It has an index that labels each element in the Series, making it easy to access and manipulate the data.\n",
    "(D)Series is best suited for working with one-dimensional data.\n",
    "\n",
    "2. Dataframes:\n",
    "(A)A DataFrame is a two-dimensional table or spreadsheet-like data structure.\n",
    "(B)It consists of multiple columns, each of which can be of a different data type.\n",
    "(C)It has both row and column indexes, which allows you to access and manipulate data along both dimensions.\n",
    "(D)DataFrames are well-suited for working with structured and tabular data where you may have multiple variables or features.\n"
   ]
  },
  {
   "cell_type": "code",
   "execution_count": 9,
   "id": "294790c4-0fbe-40b7-9d75-07d6ebe0dda6",
   "metadata": {},
   "outputs": [
    {
     "name": "stdout",
     "output_type": "stream",
     "text": [
      "Pandas Series:\n",
      "0    1\n",
      "1    2\n",
      "2    3\n",
      "3    4\n",
      "4    5\n",
      "Name: MySeries, dtype: int64\n",
      "nPandas DataFrame:\n",
      "   Column1 Column2\n",
      "0        1       A\n",
      "1        2       B\n",
      "2        3       C\n",
      "3        4       D\n",
      "4        5       E\n"
     ]
    }
   ],
   "source": [
    "#Example:\n",
    "import pandas as pd\n",
    "\n",
    "# Creating a Pandas Series\n",
    "series_data = pd.Series([1, 2, 3, 4, 5], name=\"MySeries\")\n",
    "print(\"Pandas Series:\")\n",
    "print(series_data)\n",
    "\n",
    "# Creating a Pandas DataFrame\n",
    "data = {'Column1': [1, 2, 3, 4, 5],\n",
    "        'Column2': ['A', 'B', 'C', 'D', 'E']}\n",
    "df = pd.DataFrame(data)\n",
    "print(\"nPandas DataFrame:\")\n",
    "print(df)\n"
   ]
  },
  {
   "cell_type": "raw",
   "id": "a991e695-3b73-4b9e-b087-420963f291c3",
   "metadata": {},
   "source": [
    "Q4.What are some common functions you can use to manipulate data in a Pandas DataFrame? Canyou give an example of when you might use one of these functions?\n",
    "Ans:\n",
    "1. Filtering Data:\n",
    "\n",
    "DataFrame.loc[]: Allows us to filter rows and columns based on labels (loc).\n",
    "\n",
    "# Example: Selecting rows with a condition\n",
    "df_filtered = df[df['Age'] > 30]\n",
    "    \n",
    "2.  Sorting Data:\n",
    "\n",
    "DataFrame.sort_values(): Sorts the DataFrame based on one or more columns.\n",
    "\n",
    "# Example: Sorting by a specific column\n",
    "df_sorted = df.sort_values(by='Salary', ascending=False) "
   ]
  },
  {
   "cell_type": "raw",
   "id": "a478ff58-2d60-462e-8a60-8b930e69f658",
   "metadata": {},
   "source": [
    "Q5. Which of the following is mutable in nature Series, DataFrame, Panel?\n",
    "1. Series: Series is mutable, which means you can change the values of a Series after it's created.\n",
    "\n",
    "2. DataFrame: DataFrame is mutable as well. You can modify the data within a DataFrame, add or remove rows and columns, and perform various operations to change its content.\n",
    "\n",
    "3.Panel: Panel was a data structure in pandas for handling three-dimensional data, but it has been removed from the pandas library since version 0.25.0 (July 2019) and is no longer available. If you're working with more complex data structures, you would typically use MultiIndex DataFrames or other alternatives."
   ]
  },
  {
   "cell_type": "markdown",
   "id": "04fb9198-7294-4ba8-8cf2-2936542522aa",
   "metadata": {},
   "source": [
    "Q7. Create a DataFrame using multiple Series. Explain with an example.\n",
    "Ans:A DataFrame is a two-dimensional, size-mutable, and potentially heterogeneous tabular data structure with labeled axes (rows and columns). Each Series becomes a column in the resulting DataFrame. Here's an example of how to create a DataFrame using multiple Series:\n",
    "\n",
    "\n",
    "\n"
   ]
  },
  {
   "cell_type": "code",
   "execution_count": 6,
   "id": "bcbed604-4e29-45ad-b62e-efcca0e14d8e",
   "metadata": {},
   "outputs": [
    {
     "name": "stdout",
     "output_type": "stream",
     "text": [
      "      Name  Age\n",
      "0    Alice   25\n",
      "1      Bob   30\n",
      "2  Charlie   28\n",
      "3    David   22\n"
     ]
    }
   ],
   "source": [
    "# Example: \n",
    "\n",
    "\n",
    "# Creating two Series\n",
    "names = pd.Series([\"Alice\", \"Bob\", \"Charlie\", \"David\"])\n",
    "ages = pd.Series([25, 30, 28, 22])\n",
    "\n",
    "# Combining the Series into a DataFrame\n",
    "df = pd.DataFrame({\"Name\": names, \"Age\": ages})\n",
    "\n",
    "# Display the DataFrame\n",
    "print(df)\n",
    "      "
   ]
  },
  {
   "cell_type": "code",
   "execution_count": null,
   "id": "0f1e6c36-9703-4347-9793-fed7f2ef1fbd",
   "metadata": {},
   "outputs": [],
   "source": []
  }
 ],
 "metadata": {
  "kernelspec": {
   "display_name": "Python 3 (ipykernel)",
   "language": "python",
   "name": "python3"
  },
  "language_info": {
   "codemirror_mode": {
    "name": "ipython",
    "version": 3
   },
   "file_extension": ".py",
   "mimetype": "text/x-python",
   "name": "python",
   "nbconvert_exporter": "python",
   "pygments_lexer": "ipython3",
   "version": "3.10.8"
  }
 },
 "nbformat": 4,
 "nbformat_minor": 5
}
